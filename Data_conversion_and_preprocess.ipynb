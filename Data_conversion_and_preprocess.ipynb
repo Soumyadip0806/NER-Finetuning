{
  "cells": [
    {
      "cell_type": "code",
      "execution_count": null,
      "metadata": {},
      "outputs": [],
      "source": [
        "import os\n",
        "import re\n",
        "import csv\n",
        "import random\n",
        "import numpy as np\n",
        "import pandas as pd\n",
        "import matplotlib.pyplot as plt\n",
        "import seaborn as sns\n",
        "from collections import defaultdict, Counter\n",
        "from lxml import etree\n",
        "from lxml.etree import XMLSyntaxError\n",
        "from sklearn.model_selection import train_test_split\n",
        "from sklearn.preprocessing import LabelEncoder"
      ]
    },
    {
      "cell_type": "markdown",
      "metadata": {
        "id": "E1hZ3CgK0wEe"
      },
      "source": [
        "## **XML files to single CSV => Filename, URL, Sentence_Id, Tokens, Tags**"
      ]
    },
    {
      "cell_type": "code",
      "execution_count": null,
      "metadata": {
        "id": "3EbtEvAK0wEg",
        "outputId": "4f15dc12-1498-4653-9790-d2aa611ff123"
      },
      "outputs": [
        {
          "name": "stdout",
          "output_type": "stream",
          "text": [
            "⚠️ Warning: No URL found in File11_20112024_mawphor.xml\n",
            "⚠️ Warning: No URL found in File12_20112024_mawphor.xml\n",
            "✅ CSV saved to khasi_key_datasetv0.csv\n"
          ]
        }
      ],
      "source": [
        "\n",
        "# List of abbreviations where sentences should not split\n",
        "EXCEPTIONS = ['Dr.', 'Mr.', 'Inc.', 'Mrs.', 'Prof.', 'Sr.', 'Jr.', 'Rs.']\n",
        "\n",
        "\n",
        "def sanitize_xml(file_path):\n",
        "    with open(file_path, \"r\", encoding=\"utf-8\") as file:\n",
        "        content = file.read()\n",
        "\n",
        "    # Replace unescaped '&' characters with '&amp;', excluding already escaped entities\n",
        "    content = re.sub(r'&(?!amp;|lt;|gt;|quot;|apos;)', '&amp;', content)\n",
        "\n",
        "    # Ensure the file starts with a valid XML declaration if needed\n",
        "    if not content.startswith(\"<?xml\"):\n",
        "        content = \"<?xml version='1.0' encoding='UTF-8'?>\\n\" + content\n",
        "\n",
        "    # Save sanitized XML\n",
        "    sanitized_path = file_path + \".sanitized\"\n",
        "    with open(sanitized_path, \"w\", encoding=\"utf-8\") as file:\n",
        "        file.write(content)\n",
        "\n",
        "    # Validate the XML and auto-fix if necessary\n",
        "    parser = etree.XMLParser(recover=True, huge_tree=True)\n",
        "    try:\n",
        "        etree.parse(sanitized_path, parser)  # Attempt to parse\n",
        "    except XMLSyntaxError as e:\n",
        "        print(f\"Warning: XML syntax error in {file_path}: {e}. Attempting auto-repair...\")\n",
        "\n",
        "    return sanitized_path\n",
        "\n",
        "\n",
        "# Function to check if a token is an abbreviation or date\n",
        "def is_exception_or_date(token):\n",
        "    if re.match(r'\\d{1,2}[\\.\\/-]\\d{1,2}[\\.\\/-]\\d{4}', token):\n",
        "        return True\n",
        "    if token in EXCEPTIONS:\n",
        "        return True\n",
        "    return False\n",
        "\n",
        "\n",
        "# Function to extract the URL from the first sentence\n",
        "def extract_url(root):\n",
        "    # Get the first sentence\n",
        "    first_sentence = root.xpath(\"//sentence[1]\")\n",
        "\n",
        "    if first_sentence:\n",
        "        words = first_sentence[0].xpath(\".//word\")\n",
        "\n",
        "        if len(words) >= 1:\n",
        "            first_word = words[0].text.strip() if words[0].text else \"\"\n",
        "\n",
        "            if first_word.startswith(\"#\") and len(words) > 1:\n",
        "                # If first word starts with #, take the next word\n",
        "                return words[1].text.strip() if words[1].text else \"N/A\"\n",
        "            else:\n",
        "                # Otherwise, take the first word as URL\n",
        "                return first_word\n",
        "\n",
        "    return \"N/A\"  # Default if no valid URL is found\n",
        "\n",
        "\n",
        "\n",
        "\n",
        "# Main function to parse XML and save to CSV\n",
        "def parse_xml_to_csv(input_folder, output_csv):\n",
        "    data = []\n",
        "\n",
        "    for file in os.listdir(input_folder):\n",
        "        if file.endswith(\".xml\"):\n",
        "            filename = file\n",
        "            file_path = os.path.join(input_folder, file)\n",
        "            sanitized_path = sanitize_xml(file_path)\n",
        "            parser = etree.XMLParser(huge_tree=True)\n",
        "            tree = etree.parse(sanitized_path, parser)\n",
        "            root = tree.getroot()\n",
        "\n",
        "            # Extract URL only once per file\n",
        "            url = extract_url(root)\n",
        "            if url == \"N/A\":\n",
        "                print(f\"⚠️ Warning: No URL found in {filename}\")\n",
        "\n",
        "            sentence_id = 0\n",
        "            tokens, tags = [], []\n",
        "\n",
        "            for sentence in root.xpath(\"//sentence\"):\n",
        "                words = sentence.xpath(\".//word\")\n",
        "\n",
        "                for i, word in enumerate(words):\n",
        "                    token = word.text.strip() if word.text else \"\"\n",
        "                    tag = word.get(\"tag\")\n",
        "\n",
        "                    next_word = words[i + 1].text.strip() if (i + 1 < len(words) and words[i + 1].text) else None\n",
        "                    next_tag = words[i + 1].get(\"tag\") if i + 1 < len(words) else None\n",
        "\n",
        "                    if token.endswith(\".\"):\n",
        "                        before_dot = token[:-1]\n",
        "                        if len(before_dot) == 1 or (len(before_dot) >= 2 and is_exception_or_date(token)):\n",
        "                            tokens.append(token)\n",
        "                            tags.append(tag)\n",
        "                            continue\n",
        "                        if next_tag and next_tag.startswith(\"i-\"):\n",
        "                            tokens.append(token)\n",
        "                            tags.append(tag)\n",
        "                            continue\n",
        "                        tokens.append(token)\n",
        "                        tags.append(tag)\n",
        "                        data.append([filename, url, sentence_id, \" \".join(tokens), \" \".join(tags)])\n",
        "                        sentence_id += 1\n",
        "                        tokens, tags = [], []\n",
        "                    else:\n",
        "                        tokens.append(token)\n",
        "                        tags.append(tag)\n",
        "\n",
        "                if tokens:\n",
        "                    data.append([filename, url, sentence_id, \" \".join(tokens), \" \".join(tags)])\n",
        "                    sentence_id += 1\n",
        "                    tokens, tags = [], []\n",
        "\n",
        "    with open(output_csv, mode=\"w\", newline=\"\", encoding=\"utf-8\") as csvfile:\n",
        "        writer = csv.writer(csvfile)\n",
        "        writer.writerow([\"Filename\", \"URL\", \"Sentence_Id\", \"Tokens\", \"Tags\"])\n",
        "        writer.writerows(data)\n",
        "\n",
        "    print(f\"✅ CSV saved to {output_csv}\")\n",
        "\n",
        "\n",
        "# Example usage\n",
        "input_folder = r\"C:\\Users\\plura\\Desktop\\NER\\KHASI_NER\\Khasi Keyword Identification-20250219T102319Z-001\\Khasi Keyword Identification\"\n",
        "output_csv = \"khasi_key_datasetv0.csv\"\n",
        "parse_xml_to_csv(input_folder, output_csv)\n"
      ]
    },
    {
      "cell_type": "markdown",
      "metadata": {
        "id": "JsY4sQij0wEh"
      },
      "source": [
        "## **Fix encoding issue, if any**"
      ]
    },
    {
      "cell_type": "code",
      "execution_count": null,
      "metadata": {
        "id": "xDFeQhiW0wEh"
      },
      "outputs": [],
      "source": [
        "\n",
        "csv_file = r\"_khasi_ner_datasetv0.csv\"  # Your CSV file\n",
        "\n",
        "# Read CSV with correct encoding\n",
        "df = pd.read_csv(csv_file, encoding=\"utf-8-sig\")\n",
        "\n",
        "# Clean URL column\n",
        "df[\"URL\"] = df[\"URL\"].apply(lambda x: x[5:].strip() if isinstance(x, str) and (x.startswith(\"#URL:\") or x.startswith(\"#url\")) else x)\n",
        "\n",
        "# Save the cleaned file with correct encoding\n",
        "output_file = \"khasi_ner_datasetv1.csv\"\n",
        "df.to_csv(output_file, index=False, encoding=\"utf-8-sig\")\n",
        "\n",
        "print(f\"✅ Encoding issues fixed and saved as {output_file}\")\n"
      ]
    },
    {
      "cell_type": "markdown",
      "metadata": {
        "id": "dSYe58I60wEi"
      },
      "source": [
        "## **Fix unnecessary and wrong sentence breaking**"
      ]
    },
    {
      "cell_type": "code",
      "execution_count": null,
      "metadata": {
        "id": "Xbsyu2_J0wEi",
        "outputId": "3a7c35a4-c259-4cc2-f98a-9e9e26e3f6d4"
      },
      "outputs": [
        {
          "name": "stdout",
          "output_type": "stream",
          "text": [
            "Processed CSV saved as khasi_ner_datasetv2.csv\n"
          ]
        }
      ],
      "source": [
        "\n",
        "def merge_i_tags(input_csv, output_csv):\n",
        "    merged_data = []\n",
        "\n",
        "    with open(input_csv, mode=\"r\", encoding=\"utf-8\") as csvfile:\n",
        "        reader = list(csv.reader(csvfile))\n",
        "        header = reader[0]  # Save the header\n",
        "        rows = reader[1:]  # Data rows\n",
        "\n",
        "        for row in rows:\n",
        "            filename, url, sentence_id, tokens, tags = row\n",
        "\n",
        "            # Check if first tag in tags starts with \"i-\"\n",
        "            if tags.split()[0].startswith(\"i-\") and merged_data:\n",
        "                # Append tokens and tags to the last row\n",
        "                merged_data[-1][3] += \" \" + tokens\n",
        "                merged_data[-1][4] += \" \" + tags\n",
        "            else:\n",
        "                # Add new row to merged_data\n",
        "                merged_data.append(row)\n",
        "\n",
        "    # Save the merged data back to CSV\n",
        "    with open(output_csv, mode=\"w\", newline=\"\", encoding=\"utf-8\") as csvfile:\n",
        "        writer = csv.writer(csvfile)\n",
        "        writer.writerow(header)  # Write header\n",
        "        writer.writerows(merged_data)  # Write updated rows\n",
        "\n",
        "    print(f\"Processed CSV saved as {output_csv}\")\n",
        "\n",
        "# Example usage\n",
        "input_csv = r\"khasi_ner_datasetv1.csv\"\n",
        "output_csv = r\"khasi_ner_datasetv2.csv\"\n",
        "merge_i_tags(input_csv, output_csv)\n"
      ]
    },
    {
      "cell_type": "markdown",
      "metadata": {
        "id": "zTpKpkzB0wEi"
      },
      "source": [
        "## **Remove Metadata rows from csv**"
      ]
    },
    {
      "cell_type": "code",
      "execution_count": null,
      "metadata": {
        "id": "y8k2MrbM0wEi",
        "outputId": "e7c0b628-d4a0-4696-ea6f-adcb3ae2d06a"
      },
      "outputs": [
        {
          "name": "stdout",
          "output_type": "stream",
          "text": [
            "Metadata rows removed. Cleaned CSV saved to khasi_ner_datasetv3.csv\n"
          ]
        }
      ],
      "source": [
        "\n",
        "def remove_metadata_rows(input_csv, output_csv):\n",
        "    with open(input_csv, mode=\"r\", encoding=\"utf-8\") as infile:\n",
        "        reader = csv.reader(infile)\n",
        "        header = next(reader)  # Read the header\n",
        "\n",
        "        filtered_rows = [header]  # Keep the header\n",
        "        for row in reader:\n",
        "            tokens = row[3].strip()  # \"Tokens\" column is the 3rd column (index 2)\n",
        "            if not tokens.startswith(\"#\"):  # Skip rows where tokens start with '#'\n",
        "                filtered_rows.append(row)\n",
        "\n",
        "    # Write the filtered rows to a new CSV\n",
        "    with open(output_csv, mode=\"w\", newline=\"\", encoding=\"utf-8\") as outfile:\n",
        "        writer = csv.writer(outfile)\n",
        "        writer.writerows(filtered_rows)\n",
        "\n",
        "    print(f\"Metadata rows removed. Cleaned CSV saved to {output_csv}\")\n",
        "\n",
        "# Example usage\n",
        "input_csv = r\"khasi_ner_datasetv2.csv\" # Replace with your input CSV path\n",
        "output_csv = r\"khasi_ner_datasetv3.csv\"  # Output file path\n",
        "remove_metadata_rows(input_csv, output_csv)\n"
      ]
    },
    {
      "cell_type": "markdown",
      "metadata": {
        "id": "QXhQy0Aa0wEj"
      },
      "source": [
        "## **Removing some very small length rows (optional)**"
      ]
    },
    {
      "cell_type": "code",
      "execution_count": null,
      "metadata": {
        "id": "9zLrwR4X0wEj",
        "outputId": "61722d23-cffc-4961-857f-0d65ecbce18e"
      },
      "outputs": [
        {
          "name": "stdout",
          "output_type": "stream",
          "text": [
            "Cleaned CSV saved as khasi_ner_datasetv4.csv\n"
          ]
        }
      ],
      "source": [
        "\n",
        "def clean_csv(input_csv, output_csv):\n",
        "    cleaned_data = []\n",
        "\n",
        "    with open(input_csv, mode=\"r\", encoding=\"utf-8\") as csvfile:\n",
        "        reader = list(csv.reader(csvfile))\n",
        "        header = reader[0]  # Save header\n",
        "        rows = reader[1:]  # Data rows\n",
        "\n",
        "        for row in rows:\n",
        "            filename, url, sentence_id, tokens, tags = row\n",
        "\n",
        "            # Remove rows starting with specific phrases\n",
        "            if tokens.startswith(\"Date & Time:\") or tokens.startswith(\"Data Collected by\"):\n",
        "                continue\n",
        "\n",
        "            # Remove rows where \"Tags\" contain only \"O\" or \"O O\"\n",
        "            if tags.strip() in [\"O\", \"O O\", \"O O O\", \"O O O O\", \"O O O O O\"]:\n",
        "                continue\n",
        "\n",
        "            # Keep the row if it doesn't meet the removal conditions\n",
        "            cleaned_data.append(row)\n",
        "\n",
        "    # Save cleaned data back to CSV\n",
        "    with open(output_csv, mode=\"w\", newline=\"\", encoding=\"utf-8\") as csvfile:\n",
        "        writer = csv.writer(csvfile)\n",
        "        writer.writerow(header)  # Write header\n",
        "        writer.writerows(cleaned_data)  # Write updated rows\n",
        "\n",
        "    print(f\"Cleaned CSV saved as {output_csv}\")\n",
        "\n",
        "# Example usage\n",
        "input_csv = r\"khasi_ner_datasetv3.csv\"\n",
        "output_csv = \"khasi_ner_datasetv4.csv\"\n",
        "clean_csv(input_csv, output_csv)\n"
      ]
    },
    {
      "cell_type": "markdown",
      "metadata": {
        "id": "J-AKf1op0wEj"
      },
      "source": [
        "## **Removing unnecessary columns**"
      ]
    },
    {
      "cell_type": "code",
      "execution_count": null,
      "metadata": {
        "id": "MCAHGgl30wEj",
        "outputId": "09549d35-82b5-400d-8c3e-3a0782f81632"
      },
      "outputs": [
        {
          "name": "stdout",
          "output_type": "stream",
          "text": [
            "Columns removed. Cleaned CSV saved to final_output_dataset.csv\n"
          ]
        }
      ],
      "source": [
        "\n",
        "def remove_columns(input_csv, output_csv):\n",
        "    with open(input_csv, mode=\"r\", encoding=\"utf-8\") as infile:\n",
        "        reader = csv.reader(infile)\n",
        "        header = next(reader)\n",
        "\n",
        "        # Get indices of \"Filename\" and \"Sentence_Id\" columns\n",
        "        filename_idx = header.index(\"Filename\")\n",
        "        sentence_id_idx = header.index(\"Sentence_Id\")\n",
        "\n",
        "        # Remove the columns from the header\n",
        "        new_header = [col for i, col in enumerate(header) if i not in (filename_idx, sentence_id_idx)]\n",
        "\n",
        "        # Filter rows by removing the corresponding columns\n",
        "        filtered_rows = [new_header]\n",
        "        for row in reader:\n",
        "            new_row = [col for i, col in enumerate(row) if i not in (filename_idx, sentence_id_idx)]\n",
        "            filtered_rows.append(new_row)\n",
        "\n",
        "    # Write the filtered rows to a new CSV\n",
        "    with open(output_csv, mode=\"w\", newline=\"\", encoding=\"utf-8\") as outfile:\n",
        "        writer = csv.writer(outfile)\n",
        "        writer.writerows(filtered_rows)\n",
        "\n",
        "    print(f\"Columns removed. Cleaned CSV saved to {output_csv}\")\n",
        "\n",
        "# Example usage\n",
        "input_csv = \"cleaned_output_dataset.csv\"  # Replace with your input CSV path\n",
        "output_csv = \"final_output_dataset.csv\"  # Output file path\n",
        "remove_columns(input_csv, output_csv)\n"
      ]
    },
    {
      "cell_type": "markdown",
      "metadata": {
        "id": "crhQyhQZ0wEj"
      },
      "source": [
        "## **Checking if any row start with i-tag? if then it will handle it**"
      ]
    },
    {
      "cell_type": "code",
      "execution_count": null,
      "metadata": {
        "id": "Yhi8rQlG0wEj",
        "outputId": "b64879be-6638-4f50-9c1d-efa50d7a2f16"
      },
      "outputs": [
        {
          "name": "stdout",
          "output_type": "stream",
          "text": [
            "No rows found where the first tag starts with 'i-'.\n"
          ]
        }
      ],
      "source": [
        "\n",
        "def check_i_tag_rows(csv_file):\n",
        "    with open(csv_file, mode='r', encoding='utf-8') as file:\n",
        "        reader = csv.reader(file)\n",
        "        header = next(reader)  # Skip the header row\n",
        "        tag_index = header.index(\"Tags\")  # Get index of Tags column\n",
        "\n",
        "        row_numbers = []\n",
        "        for row_num, row in enumerate(reader, start=2):  # Start from 2 to account for header\n",
        "            tags = row[tag_index].split()\n",
        "            if tags and tags[0].startswith(\"i-\"):\n",
        "                row_numbers.append(row_num)\n",
        "\n",
        "        if row_numbers:\n",
        "            print(\"Rows where the first tag starts with 'i-':\", row_numbers)\n",
        "        else:\n",
        "            print(\"No rows found where the first tag starts with 'i-'.\")\n",
        "\n",
        "# Example usage\n",
        "csv_file = r\"khasi_ner_datasetv1.csv\"  # Replace with your actual CSV filename\n",
        "check_i_tag_rows(csv_file)\n"
      ]
    },
    {
      "cell_type": "markdown",
      "metadata": {
        "id": "qAhJWiJj0wEk"
      },
      "source": [
        "## **CSV to CONLL format**"
      ]
    },
    {
      "cell_type": "code",
      "execution_count": null,
      "metadata": {
        "id": "a4LbniC10wEk",
        "outputId": "7f526032-3858-4758-ca09-444e6f01469f"
      },
      "outputs": [
        {
          "name": "stdout",
          "output_type": "stream",
          "text": [
            "CoNLL file saved to Mizo_output_dataset.conll\n"
          ]
        }
      ],
      "source": [
        "\n",
        "def csv_to_conll(csv_file, conll_file):\n",
        "    total_sentences = 0\n",
        "    total_tokens = 0\n",
        "    unique_tokens = set()\n",
        "    tag_counts = defaultdict(int)  # Dictionary to count tags (merge b- and i-)\n",
        "\n",
        "    with open(csv_file, mode='r', encoding='utf-8-sig') as file, open(conll_file, mode='w', encoding='utf-8') as out_file:\n",
        "        reader = csv.reader(file)\n",
        "        header = next(reader)  # Read header row and remove BOM\n",
        "\n",
        "        # Remove BOM from the first column\n",
        "        header[0] = header[0].lstrip(\"\\ufeff\")\n",
        "\n",
        "        filename_index = header.index(\"Filename\")  # Now it should work fine\n",
        "        url_index = header.index(\"URL\")\n",
        "        sentence_id_index = header.index(\"Sentence_Id\")\n",
        "        tokens_index = header.index(\"Tokens\")\n",
        "        tags_index = header.index(\"Tags\")\n",
        "\n",
        "        for row in reader:\n",
        "            url = row[url_index]\n",
        "            sentence_id = row[sentence_id_index]\n",
        "            tokens = row[tokens_index].split()\n",
        "            tags = row[tags_index].split()\n",
        "\n",
        "            # Update statistics\n",
        "            total_sentences += 1\n",
        "            total_tokens += len(tokens)\n",
        "            unique_tokens.update(tokens)  # Add tokens to set for unique count\n",
        "\n",
        "            for tag in tags:\n",
        "                normalized_tag = tag.replace(\"b-\", \"\").replace(\"i-\", \"\")  # Merge b- and i- tags\n",
        "                tag_counts[normalized_tag] += 1\n",
        "\n",
        "            # Write headers for each sentence\n",
        "            out_file.write(f\"# URL: {url}\\n\")\n",
        "            out_file.write(f\"# Sentence_Id: {sentence_id}\\n\")\n",
        "\n",
        "            # Write tokens with token ID\n",
        "            for i, (token, tag) in enumerate(zip(tokens, tags), start=1):\n",
        "                out_file.write(f\"{i}\\t{token}\\t  {tag}\\n\")\n",
        "\n",
        "            out_file.write(\"\\n\")  # Sentence separator\n",
        "\n",
        "    # Print the statistics\n",
        "    print(f\"Total Sentences: {total_sentences}\")\n",
        "    print(f\"Total Tokens: {total_tokens}\")\n",
        "    print(f\"Unique Tokens: {len(unique_tokens)}\")\n",
        "    print(\"Tag-wise Count:\")\n",
        "    for tag, count in tag_counts.items():\n",
        "        print(f\"  {tag}: {count}\")\n",
        "\n",
        "    print(f\"\\nCoNLL file saved to {conll_file}\")\n",
        "\n",
        "# Example usage\n",
        "csv_file = r\"Khasi_NER_merged_dataset.csv\"\n",
        "conll_file = \"Khasi_NER_merged_dataset.conll\"\n",
        "csv_to_conll(csv_file, conll_file)\n"
      ]
    },
    {
      "cell_type": "markdown",
      "metadata": {
        "id": "ukZSNJUs2SI8"
      },
      "source": [
        "## **Split conll into train test valid**"
      ]
    },
    {
      "cell_type": "code",
      "execution_count": null,
      "metadata": {
        "id": "QDpVnoUA0wEm",
        "outputId": "ab14e303-c87d-4cbe-b08b-cc2313d92e52"
      },
      "outputs": [
        {
          "name": "stdout",
          "output_type": "stream",
          "text": [
            "\n",
            "=== Dataset Statistics ===\n",
            "Train Set: {'Total Sentences': 3303, 'Total Tokens': 162051, 'Unique Tokens': 13039, 'Tag Counts': {'O': 140458, 'NEL': 1893, 'NETI': 2313, 'NEMI': 3564, 'NEO': 1345, 'NEP': 2047, 'NEF': 1099, 'KEYWORD': 9025, 'NEAR': 301, 'NEU': 3, 'NETE': 3}}\n",
            "Validation Set: {'Total Sentences': 412, 'Total Tokens': 21370, 'Unique Tokens': 3754, 'Tag Counts': {'KEYWORD': 1451, 'O': 18288, 'NEAR': 44, 'NEMI': 463, 'NEL': 278, 'NEP': 264, 'NETI': 210, 'NEF': 164, 'NEO': 207, 'NEU': 1}}\n",
            "Test Set: {'Total Sentences': 414, 'Total Tokens': 19680, 'Unique Tokens': 3680, 'Tag Counts': {'KEYWORD': 899, 'NEMI': 535, 'O': 16974, 'NEL': 272, 'NETI': 272, 'NEAR': 50, 'NEF': 157, 'NEP': 309, 'NEO': 212}}\n"
          ]
        }
      ],
      "source": [
        "\n",
        "def read_conll_file(conll_file):\n",
        "    \"\"\" Reads a CoNLL file and extracts sentences as structured data. \"\"\"\n",
        "    sentences = []\n",
        "    current_sentence = []\n",
        "    current_url = \"\"\n",
        "\n",
        "    with open(conll_file, mode=\"r\", encoding=\"utf-8\") as file:\n",
        "        for line in file:\n",
        "            line = line.strip()\n",
        "\n",
        "            if line.startswith(\"# URL:\"):\n",
        "                current_url = line  # Store URL header\n",
        "            elif line.startswith(\"# Sentence_Id:\"):\n",
        "                continue  # Ignore sentence ID because we'll renumber\n",
        "            elif line == \"\":\n",
        "                if current_sentence:\n",
        "                    sentences.append((current_url, current_sentence))\n",
        "                    current_sentence = []\n",
        "            else:\n",
        "                # Replace HEADLINE with HEADWORD\n",
        "                current_sentence.append(line.replace(\"HEADLINE\", \"KEYWORD\"))\n",
        "\n",
        "        if current_sentence:  # Add last sentence if file doesn't end with newline\n",
        "            sentences.append((current_url, current_sentence))\n",
        "\n",
        "    return sentences\n",
        "\n",
        "def write_conll_file(sentences, output_file):\n",
        "    \"\"\" Writes sentences to a new CoNLL file with corrected numbering. \"\"\"\n",
        "    with open(output_file, mode=\"w\", encoding=\"utf-8\") as file:\n",
        "        for i, (url, sentence) in enumerate(sentences, start=1):\n",
        "            file.write(f\"{url}\\n\")\n",
        "            file.write(f\"# Sentence_Id: {i}\\n\")  # Renumber sentence IDs\n",
        "\n",
        "            for line in sentence:\n",
        "                file.write(line + \"\\n\")\n",
        "\n",
        "            file.write(\"\\n\")  # Sentence separator\n",
        "\n",
        "def compute_stats(sentences):\n",
        "    \"\"\" Computes statistics for a given dataset split. \"\"\"\n",
        "    total_sentences = len(sentences)\n",
        "    total_tokens = 0\n",
        "    unique_tokens = set()\n",
        "    tag_counts = defaultdict(int)\n",
        "\n",
        "    for _, sentence in sentences:\n",
        "        for line in sentence:\n",
        "            parts = line.split(\"\\t\")\n",
        "            if len(parts) < 3:\n",
        "                continue\n",
        "            token = parts[1].strip()\n",
        "            tag = parts[2].strip()\n",
        "\n",
        "            total_tokens += 1\n",
        "            unique_tokens.add(token)\n",
        "\n",
        "            normalized_tag = tag.replace(\"b-\", \"\").replace(\"i-\", \"\")  # Merge b- and i-\n",
        "            tag_counts[normalized_tag] += 1\n",
        "\n",
        "    return {\n",
        "        \"Total Sentences\": total_sentences,\n",
        "        \"Total Tokens\": total_tokens,\n",
        "        \"Unique Tokens\": len(unique_tokens),\n",
        "        \"Tag Counts\": dict(tag_counts),\n",
        "    }\n",
        "\n",
        "def split_and_save(conll_file, train_ratio=0.8, valid_ratio=0.1, test_ratio=0.1):\n",
        "    \"\"\" Splits the dataset into train, valid, and test sets, then saves them. \"\"\"\n",
        "    sentences = read_conll_file(conll_file)\n",
        "    random.shuffle(sentences)  # Shuffle for random splits\n",
        "\n",
        "    total = len(sentences)\n",
        "    train_size = int(total * train_ratio)\n",
        "    valid_size = int(total * valid_ratio)\n",
        "\n",
        "    train_set = sentences[:train_size]\n",
        "    valid_set = sentences[train_size:train_size + valid_size]\n",
        "    test_set = sentences[train_size + valid_size:]\n",
        "\n",
        "    # Save split files\n",
        "    write_conll_file(train_set, \"train.conll\")\n",
        "    write_conll_file(valid_set, \"valid.conll\")\n",
        "    write_conll_file(test_set, \"test.conll\")\n",
        "\n",
        "    # Compute stats\n",
        "    train_stats = compute_stats(train_set)\n",
        "    valid_stats = compute_stats(valid_set)\n",
        "    test_stats = compute_stats(test_set)\n",
        "\n",
        "    # Print stats\n",
        "    print(\"\\n=== Dataset Statistics ===\")\n",
        "    print(\"Train Set:\", train_stats)\n",
        "    print(\"Validation Set:\", valid_stats)\n",
        "    print(\"Test Set:\", test_stats)\n",
        "\n",
        "# Example Usage\n",
        "conll_file = r\"Khasi_NER_merged_dataset.conll\" # Your original CoNLL file\n",
        "split_and_save(conll_file)\n"
      ]
    },
    {
      "cell_type": "markdown",
      "metadata": {
        "id": "jiIBhNwq0wEk"
      },
      "source": [
        "# **Data Preprocessing**"
      ]
    },
    {
      "cell_type": "markdown",
      "metadata": {
        "id": "td4tw2fW0wEk"
      },
      "source": [
        "### Check the Shape of data"
      ]
    },
    {
      "cell_type": "code",
      "execution_count": null,
      "metadata": {
        "id": "xGBYBqkr0wEk",
        "outputId": "41a1e189-b9bf-4563-834b-32e33cc8a36c"
      },
      "outputs": [
        {
          "name": "stdout",
          "output_type": "stream",
          "text": [
            "Shape of the dataset: (3565, 2)\n"
          ]
        }
      ],
      "source": [
        "\n",
        "# Load the CSV\n",
        "df = pd.read_csv(\"final_output_dataset.csv\")  # Replace with your actual file path\n",
        "\n",
        "# Check the shape (number of rows and columns)\n",
        "print(f\"Shape of the dataset: {df.shape}\")\n"
      ]
    },
    {
      "cell_type": "markdown",
      "metadata": {
        "id": "WsUc-WbH2vKv"
      },
      "source": [
        "### Check first 5 rows"
      ]
    },
    {
      "cell_type": "code",
      "execution_count": null,
      "metadata": {
        "id": "9soEf-GQ0wEk",
        "outputId": "afc84f37-f891-4aca-b028-de8b54bbc2ae"
      },
      "outputs": [
        {
          "name": "stdout",
          "output_type": "stream",
          "text": [
            "First 5 rows of the dataset:\n",
            "                                              Tokens  \\\n",
            "0                            Sairangah heroin an man   \n",
            "1  Mizoram NewsSairangah heroin an man admin 14-S...   \n",
            "2  Assam Rifles leh Excise & Narcotics Department...   \n",
            "3  Excise leh AR tangkawp hian an thudawn bawhzui...   \n",
            "4               Cheng nuai 16.80 man hua chhut a ni.   \n",
            "\n",
            "                                                Tags  \n",
            "0        b-HEADLINE i-HEADLINE i-HEADLINE i-HEADLINE  \n",
            "1                                  O O O O O O O O O  \n",
            "2  b-NEO i-NEO O b-NEO i-NEO i-NEO i-NEO O O O O ...  \n",
            "3  O O O O O O O O b-NEMI i-NEMI O O O b-NEL i-NE...  \n",
            "4                                    O O O O O O O O  \n"
          ]
        }
      ],
      "source": [
        "# Display the first 5 rows of the dataset\n",
        "print(\"First 5 rows of the dataset:\")\n",
        "print(df.head())\n"
      ]
    },
    {
      "cell_type": "markdown",
      "metadata": {
        "id": "6noL6msS2zCK"
      },
      "source": [
        "### Check null values"
      ]
    },
    {
      "cell_type": "code",
      "execution_count": null,
      "metadata": {
        "id": "Ea60dgNE0wEl",
        "outputId": "3f162879-fd73-43e1-fb2c-04b11d8e54ce"
      },
      "outputs": [
        {
          "name": "stdout",
          "output_type": "stream",
          "text": [
            "Null values in the dataset:\n",
            "Tokens    0\n",
            "Tags      0\n",
            "dtype: int64\n"
          ]
        }
      ],
      "source": [
        "# Check for null values in each column\n",
        "print(\"Null values in the dataset:\")\n",
        "print(df.isnull().sum())\n"
      ]
    },
    {
      "cell_type": "markdown",
      "metadata": {
        "id": "4-0dl57-25gO"
      },
      "source": [
        "### Check Data statistics"
      ]
    },
    {
      "cell_type": "code",
      "execution_count": null,
      "metadata": {
        "id": "He6-Ggzo0wEl",
        "outputId": "fabbff58-ac7f-4ec1-e942-48af1618b803"
      },
      "outputs": [
        {
          "name": "stdout",
          "output_type": "stream",
          "text": [
            "Descriptive statistics for token word counts:\n",
            "count    3565.000000\n",
            "mean       25.148107\n",
            "std        23.281133\n",
            "min         1.000000\n",
            "25%        10.000000\n",
            "50%        19.000000\n",
            "75%        33.000000\n",
            "max       280.000000\n",
            "Name: Token_Word_Count, dtype: float64\n",
            "\n",
            "Descriptive statistics for tag word counts:\n",
            "count    3565.000000\n",
            "mean       25.148107\n",
            "std        23.281133\n",
            "min         1.000000\n",
            "25%        10.000000\n",
            "50%        19.000000\n",
            "75%        33.000000\n",
            "max       280.000000\n",
            "Name: Tag_Word_Count, dtype: float64\n"
          ]
        }
      ],
      "source": [
        "# Descriptive statistics for token and tag word counts\n",
        "print(\"Descriptive statistics for token word counts:\")\n",
        "print(df['Token_Word_Count'].describe())\n",
        "\n",
        "print(\"\\nDescriptive statistics for tag word counts:\")\n",
        "print(df['Tag_Word_Count'].describe())\n"
      ]
    },
    {
      "cell_type": "markdown",
      "metadata": {
        "id": "eA5BXMEw29E_"
      },
      "source": [
        "### Check Outlier"
      ]
    },
    {
      "cell_type": "code",
      "execution_count": null,
      "metadata": {
        "id": "p551iOU_0wEl",
        "outputId": "e8036724-8fbd-4781-d76b-00b4163d4731"
      },
      "outputs": [
        {
          "data": {
            "image/png": "[encoded data removed]",
            "text/plain": [
              "<Figure size 1200x600 with 1 Axes>"
            ]
          },
          "metadata": {},
          "output_type": "display_data"
        },
        {
          "data": {
            "image/png": "[encoded data removed]",
            "text/plain": [
              "<Figure size 1200x600 with 1 Axes>"
            ]
          },
          "metadata": {},
          "output_type": "display_data"
        }
      ],
      "source": [
        "\n",
        "# Box plot for token and tag word counts\n",
        "plt.figure(figsize=(12, 6))\n",
        "sns.boxplot(data=df[['Token_Word_Count', 'Tag_Word_Count']], palette=\"Set2\")\n",
        "plt.title(\"Box Plot of Token and Tag Word Counts\")\n",
        "plt.ylabel(\"Word Count\")\n",
        "plt.show()\n",
        "\n",
        "# Violin plot for token and tag word counts\n",
        "plt.figure(figsize=(12, 6))\n",
        "sns.violinplot(data=df[['Token_Word_Count', 'Tag_Word_Count']], palette=\"muted\")\n",
        "plt.title(\"Violin Plot of Token and Tag Word Counts\")\n",
        "plt.ylabel(\"Word Count\")\n",
        "plt.show()\n"
      ]
    },
    {
      "cell_type": "markdown",
      "metadata": {
        "id": "pflxuPKB3NCX"
      },
      "source": [
        "### Distribution of Token Word Counts"
      ]
    },
    {
      "cell_type": "code",
      "execution_count": null,
      "metadata": {
        "id": "vEFI4RzK0wEl",
        "outputId": "a25b1a84-3481-4993-94dc-11cb3312633d"
      },
      "outputs": [
        {
          "data": {
            "image/png": "[encoded data removed]",
            "text/plain": [
              "<Figure size 1000x600 with 1 Axes>"
            ]
          },
          "metadata": {},
          "output_type": "display_data"
        }
      ],
      "source": [
        "\n",
        "# Token word count distribution\n",
        "plt.figure(figsize=(10, 6))\n",
        "sns.histplot(df['Token_Word_Count'], bins=30, kde=True, color='blue')\n",
        "plt.title(\"Distribution of Token Word Counts\")\n",
        "plt.xlabel(\"Number of Tokens per Sentence\")\n",
        "plt.ylabel(\"Frequency\")\n",
        "plt.show()\n"
      ]
    },
    {
      "cell_type": "markdown",
      "metadata": {
        "id": "UOfoMAk23QyP"
      },
      "source": [
        "### Tag Frequency Distribution"
      ]
    },
    {
      "cell_type": "code",
      "execution_count": null,
      "metadata": {
        "id": "NrDg4Ysc0wEl",
        "outputId": "7d6be40e-186e-45d5-bdd3-0034ee12624d"
      },
      "outputs": [
        {
          "name": "stderr",
          "output_type": "stream",
          "text": [
            "C:\\Users\\plura\\AppData\\Local\\Temp\\ipykernel_20824\\2204968071.py:9: FutureWarning: \n",
            "\n",
            "Passing `palette` without assigning `hue` is deprecated and will be removed in v0.14.0. Assign the `x` variable to `hue` and set `legend=False` for the same effect.\n",
            "\n",
            "  sns.barplot(x=list(tag_counts.keys()), y=list(tag_counts.values()), palette='viridis')\n"
          ]
        },
        {
          "data": {
            "image/png": "[encoded data removed]",
            "text/plain": [
              "<Figure size 1200x600 with 1 Axes>"
            ]
          },
          "metadata": {},
          "output_type": "display_data"
        }
      ],
      "source": [
        "\n",
        "# Flatten the tags into a single list\n",
        "all_tags = \" \".join(df['Tags']).split()\n",
        "tag_counts = Counter(all_tags)\n",
        "\n",
        "# Plot the most common tags\n",
        "plt.figure(figsize=(12, 6))\n",
        "sns.barplot(x=list(tag_counts.keys()), y=list(tag_counts.values()), palette='viridis')\n",
        "plt.title(\"Tag Frequency Distribution\")\n",
        "plt.xlabel(\"Tags\")\n",
        "plt.ylabel(\"Frequency\")\n",
        "plt.xticks(rotation=45)\n",
        "plt.show()\n"
      ]
    },
    {
      "cell_type": "markdown",
      "metadata": {
        "id": "X3wiClBU3cwk"
      },
      "source": [
        "## **Check those conflicting words who has more that 1 tags**"
      ]
    },
    {
      "cell_type": "code",
      "execution_count": null,
      "metadata": {
        "id": "lnnUVWVj0wEm",
        "outputId": "52537e81-4500-447a-f45f-99bbb9df12c8"
      },
      "outputs": [
        {
          "name": "stdout",
          "output_type": "stream",
          "text": [
            "Detailed conflicting words saved to conflicting_words_detailed.csv\n"
          ]
        }
      ],
      "source": [
        "\n",
        "# Load the dataset\n",
        "file_path = \"cleaned_output_dataset.csv\"  # Replace with your file path\n",
        "df = pd.read_csv(file_path)\n",
        "\n",
        "# Step 1: Create a column without BIO prefixes\n",
        "df['Tag_Type'] = df['Tags'].str.replace(r'^[b|i]-', '', regex=True)\n",
        "\n",
        "# Step 2: Identify tokens with multiple tags across files\n",
        "def find_conflicting_words_with_details(df):\n",
        "    # Group by Tokens and Tag_Type, collecting filenames\n",
        "    grouped = df.groupby(['Tokens', 'Tag_Type'])['Filename'].unique().reset_index()\n",
        "\n",
        "    # Aggregate tags and filenames for each token\n",
        "    conflicts = grouped.groupby('Tokens').agg({\n",
        "        'Tag_Type': lambda x: list(x),\n",
        "        'Filename': lambda x: list(x)\n",
        "    }).reset_index()\n",
        "\n",
        "    # Filter rows where tokens have multiple tags\n",
        "    conflicts['Tag_Count'] = conflicts['Tag_Type'].apply(len)\n",
        "    conflicting_words = conflicts[conflicts['Tag_Count'] > 1]\n",
        "\n",
        "    # Expand the tags and filenames into separate columns\n",
        "    expanded = []\n",
        "    for _, row in conflicting_words.iterrows():\n",
        "        word = row['Tokens']\n",
        "        tags = row['Tag_Type']\n",
        "        files = row['Filename']\n",
        "        row_data = {'Word': word}\n",
        "        for i, (tag, file_list) in enumerate(zip(tags, files)):\n",
        "            for file in file_list:\n",
        "                row_data[f'Tag_{i+1}'] = tag\n",
        "                row_data[f'File_{i+1}'] = file\n",
        "        expanded.append(row_data)\n",
        "\n",
        "    # Create a DataFrame with the expanded data\n",
        "    expanded_df = pd.DataFrame(expanded)\n",
        "    return expanded_df\n",
        "\n",
        "# Process the dataset\n",
        "conflicting_details = find_conflicting_words_with_details(df)\n",
        "\n",
        "# Save the output to a CSV file\n",
        "output_file = \"conflicting_words_detailed.csv\"\n",
        "conflicting_details.to_csv(output_file, index=False)\n",
        "\n",
        "print(f\"Detailed conflicting words saved to {output_file}\")\n"
      ]
    },
    {
      "cell_type": "markdown",
      "metadata": {
        "id": "KOOKiz5f4qjV"
      },
      "source": [
        "## **Check Mismatched Rows (length of Tokens != length of Tags)**"
      ]
    },
    {
      "cell_type": "code",
      "execution_count": null,
      "metadata": {
        "id": "ThIsYzS50wEx",
        "outputId": "05895431-a2e4-4215-b851-780d91f9dbda"
      },
      "outputs": [
        {
          "name": "stdout",
          "output_type": "stream",
          "text": [
            "✅ Total Rows Checked: 4469\n",
            "❌ Mismatched Rows Found: 0\n",
            "🎉 No mismatches found! Tokens and tags are correctly aligned.\n",
            "📂 Full dataset with Token/Tag counts saved as 'detailed_dataset.csv'\n"
          ]
        }
      ],
      "source": [
        "\n",
        "# Load the CSV\n",
        "df = pd.read_csv(\"Mizo_NER_merged_datasetv1.csv\", encoding=\"utf-8\")\n",
        "\n",
        "# Function to check token-tag consistency and return details\n",
        "def check_mismatch(row):\n",
        "    tokens = str(row[\"Tokens\"]).split()  # Convert tokens column to a list\n",
        "    tags = str(row[\"Tags\"]).split()  # Convert tags column to a list\n",
        "    tokens_count = len(tokens)  # Count the number of tokens\n",
        "    tags_count = len(tags)  # Count the number of tags\n",
        "    match = tokens_count == tags_count  # Check if counts match\n",
        "\n",
        "    # Return match status and details\n",
        "    return pd.Series([match, tokens_count, tags_count, \" \".join(tokens), \" \".join(tags)])\n",
        "\n",
        "# Apply the function to each row and store results in new columns\n",
        "df[[\"Match\", \"Token_Count\", \"Tag_Count\", \"Tokens_List\", \"Tags_List\"]] = df.apply(check_mismatch, axis=1)\n",
        "\n",
        "# Extract rows where mismatch occurs\n",
        "mismatched_rows = df[~df[\"Match\"]]\n",
        "\n",
        "# Print mismatch summary\n",
        "print(f\"✅ Total Rows Checked: {len(df)}\")\n",
        "print(f\"❌ Mismatched Rows Found: {len(mismatched_rows)}\")\n",
        "\n",
        "# Save mismatched rows for debugging\n",
        "if not mismatched_rows.empty:\n",
        "    mismatched_rows.to_csv(\"mismatched_rows.csv\", index=False, encoding=\"utf-8\")\n",
        "    print(\"⚠️ Mismatched rows saved in 'mismatched_rows.csv' for review.\")\n",
        "else:\n",
        "    print(\"🎉 No mismatches found! Tokens and tags are correctly aligned.\")\n",
        "\n",
        "# Save the detailed dataset with match status\n",
        "df.to_csv(\"detailed_dataset.csv\", index=False, encoding=\"utf-8\")\n",
        "print(\"📂 Full dataset with Token/Tag counts saved as 'detailed_dataset.csv'\")\n"
      ]
    },
    {
      "cell_type": "markdown",
      "metadata": {
        "id": "w6AsM_CF3uTd"
      },
      "source": [
        "### Split the csv into train test valid split"
      ]
    },
    {
      "cell_type": "code",
      "execution_count": null,
      "metadata": {
        "id": "Y8OCJtrd0wEm",
        "outputId": "371180ad-2d3f-4779-e610-6de5b4eefb20"
      },
      "outputs": [
        {
          "name": "stdout",
          "output_type": "stream",
          "text": [
            "Train, validation, and test sets saved.\n",
            "Train set size: 2852\n",
            "Validation set size: 356\n",
            "Test set size: 357\n"
          ]
        }
      ],
      "source": [
        "\n",
        "# Load the cleaned dataset\n",
        "df = pd.read_csv(\"processed_output_dataset.csv\")  # Replace with your file path\n",
        "\n",
        "# Set split ratios\n",
        "train_ratio = 0.8  # 80% of the data for training\n",
        "valid_ratio = 0.1  # 10% of the data for validation\n",
        "test_ratio = 0.1   # 10% of the data for testing\n",
        "\n",
        "# Split data into train and temp (validation + test)\n",
        "train_df, temp_df = train_test_split(df, test_size=(1 - train_ratio), random_state=42)\n",
        "\n",
        "# Further split temp into validation and test\n",
        "valid_df, test_df = train_test_split(temp_df, test_size=(test_ratio / (valid_ratio + test_ratio)), random_state=42)\n",
        "\n",
        "# Save the splits to separate CSV files\n",
        "train_df.to_csv(\"train_dataset.csv\", index=False)\n",
        "valid_df.to_csv(\"valid_dataset.csv\", index=False)\n",
        "test_df.to_csv(\"test_dataset.csv\", index=False)\n",
        "\n",
        "print(f\"Train, validation, and test sets saved.\")\n",
        "print(f\"Train set size: {len(train_df)}\")\n",
        "print(f\"Validation set size: {len(valid_df)}\")\n",
        "print(f\"Test set size: {len(test_df)}\")\n"
      ]
    },
    {
      "cell_type": "markdown",
      "metadata": {
        "id": "TPOZHni_0wEn"
      },
      "source": [
        "## Tag encoding"
      ]
    },
    {
      "cell_type": "code",
      "execution_count": null,
      "metadata": {
        "id": "xtU3-MD80wEn",
        "outputId": "d06ad0a5-7d6d-4121-f408-f0be76442413"
      },
      "outputs": [
        {
          "name": "stdout",
          "output_type": "stream",
          "text": [
            "                               Filename  \\\n",
            "0  post_mz_mizoramnews_0_5752_412_1.xml   \n",
            "1  post_mz_mizoramnews_0_5752_412_1.xml   \n",
            "2  post_mz_mizoramnews_0_5752_412_1.xml   \n",
            "3  post_mz_mizoramnews_0_5752_412_1.xml   \n",
            "4  post_mz_mizoramnews_0_5752_412_1.xml   \n",
            "\n",
            "                                                URL  Sentence_Id  \\\n",
            "0  https://bengvarna.com/post/mz/mizoramnews/0/5752            3   \n",
            "1  https://bengvarna.com/post/mz/mizoramnews/0/5752            4   \n",
            "2  https://bengvarna.com/post/mz/mizoramnews/0/5752            5   \n",
            "3  https://bengvarna.com/post/mz/mizoramnews/0/5752            6   \n",
            "4  https://bengvarna.com/post/mz/mizoramnews/0/5752            7   \n",
            "\n",
            "                                              Tokens  \\\n",
            "0                            Sairangah heroin an man   \n",
            "1  Mizoram NewsSairangah heroin an man admin 14-S...   \n",
            "2  Assam Rifles leh Excise & Narcotics Department...   \n",
            "3  Excise leh AR tangkawp hian an thudawn bawhzui...   \n",
            "4               Cheng nuai 16.80 man hua chhut a ni.   \n",
            "\n",
            "                                                Tags  \\\n",
            "0        b-HEADWORD i-HEADWORD i-HEADWORD i-HEADWORD   \n",
            "1                                  O O O O O O O O O   \n",
            "2  b-NEO i-NEO O b-NEO i-NEO i-NEO i-NEO O O O O ...   \n",
            "3  O O O O O O O O b-NEMI i-NEMI O O O b-NEL i-NE...   \n",
            "4                                    O O O O O O O O   \n",
            "\n",
            "                                        encoded_tags  \n",
            "0                                         1 12 12 12  \n",
            "1                                  0 0 0 0 0 0 0 0 0  \n",
            "2          7 18 0 7 18 18 18 0 0 0 0 0 5 6 0 0 0 0 0  \n",
            "3  0 0 0 0 0 0 0 0 6 17 0 0 0 5 16 0 0 0 6 17 0 0...  \n",
            "4                                    0 0 0 0 0 0 0 0  \n"
          ]
        }
      ],
      "source": [
        "\n",
        "input_file = \"Mizo_NER_merged_datasetv0.csv\"\n",
        "df = pd.read_csv(input_file)\n",
        "\n",
        "# Initialize LabelEncoder for NER tags only\n",
        "label_encoder = LabelEncoder()\n",
        "\n",
        "# Flatten all tags to fit the LabelEncoder, handling empty lists\n",
        "all_tags = []\n",
        "for tags_str in df['Tags']:\n",
        "    try:\n",
        "        tags = tags_str.split()  # Convert space-separated string to list\n",
        "        all_tags.extend(tags)  # Add the tags to the list\n",
        "    except Exception as e:\n",
        "        # Handle any unexpected errors\n",
        "        print(f\"Skipping invalid tag string: {tags_str}, Error: {e}\")\n",
        "\n",
        "label_encoder.fit(all_tags)\n",
        "\n",
        "# Function to encode tags using LabelEncoder, handling empty lists\n",
        "def encode_tags(tags_str):\n",
        "    try:\n",
        "        tags = tags_str.split()  # Convert space-separated string to list\n",
        "        encoded_tags = label_encoder.transform(tags).tolist()  # Transform tags to encoded labels\n",
        "        return \" \".join(map(str, encoded_tags))  # Join encoded tags as a space-separated string\n",
        "    except Exception as e:\n",
        "        # Return empty string if tags_str is invalid or empty\n",
        "        print(f\"Error encoding tags: {tags_str}, Error: {e}\")\n",
        "        return \"\"\n",
        "\n",
        "# Apply the encoding function to the Tags column\n",
        "df['encoded_tags'] = df['Tags'].apply(encode_tags)\n",
        "\n",
        "# Display the dataframe\n",
        "print(df.head())\n",
        "\n",
        "# Save the modified DataFrame to a new CSV\n",
        "output_file = \"Mizo_NER_merged_datasetv1.csv\"\n",
        "df.to_csv(output_file, index=False)\n"
      ]
    },
    {
      "cell_type": "markdown",
      "metadata": {
        "id": "5kN-I3aE4SIo"
      },
      "source": [
        "### Get mapping ids"
      ]
    },
    {
      "cell_type": "code",
      "execution_count": null,
      "metadata": {
        "id": "qJvJarlY0wEn",
        "outputId": "6de35415-f4d2-4e94-9da4-8a6e56383ace"
      },
      "outputs": [
        {
          "name": "stdout",
          "output_type": "stream",
          "text": [
            "Original Tags:\n",
            "['O' 'b-HEADWORD' 'b-NEAR' 'b-NEDA' 'b-NEF' 'b-NEL' 'b-NEMI' 'b-NEO'\n",
            " 'b-NEP' 'b-NETE' 'b-NETI' 'b-NEU' 'i-HEADWORD' 'i-NEAR' 'i-NEDA' 'i-NEF'\n",
            " 'i-NEL' 'i-NEMI' 'i-NEO' 'i-NEP' 'i-NETI' 'i-NEU']\n",
            "\n",
            "Tag to Encoded Value Mapping:\n",
            "0: O\n",
            "1: b-HEADWORD\n",
            "2: b-NEAR\n",
            "3: b-NEDA\n",
            "4: b-NEF\n",
            "5: b-NEL\n",
            "6: b-NEMI\n",
            "7: b-NEO\n",
            "8: b-NEP\n",
            "9: b-NETE\n",
            "10: b-NETI\n",
            "11: b-NEU\n",
            "12: i-HEADWORD\n",
            "13: i-NEAR\n",
            "14: i-NEDA\n",
            "15: i-NEF\n",
            "16: i-NEL\n",
            "17: i-NEMI\n",
            "18: i-NEO\n",
            "19: i-NEP\n",
            "20: i-NETI\n",
            "21: i-NEU\n"
          ]
        }
      ],
      "source": [
        "\n",
        "# Get the original tags\n",
        "original_tags = label_encoder.classes_\n",
        "print(\"Original Tags:\")\n",
        "print(original_tags)\n",
        "\n",
        "# Create a mapping from encoded values to tag names\n",
        "tag_mapping = {int(label_encoder.transform([tag])[0]): tag for tag in original_tags}\n",
        "\n",
        "print(\"\\nTag to Encoded Value Mapping:\")\n",
        "for key, value in tag_mapping.items():\n",
        "    print(f\"{key}: {value}\")\n"
      ]
    }
  ],
  "metadata": {
    "colab": {
      "provenance": []
    },
    "kernelspec": {
      "display_name": "Test",
      "language": "python",
      "name": "python3"
    },
    "language_info": {
      "codemirror_mode": {
        "name": "ipython",
        "version": 3
      },
      "file_extension": ".py",
      "mimetype": "text/x-python",
      "name": "python",
      "nbconvert_exporter": "python",
      "pygments_lexer": "ipython3",
      "version": "3.12.9"
    }
  },
  "nbformat": 4,
  "nbformat_minor": 0
}
